{
 "cells": [
  {
   "cell_type": "code",
   "execution_count": 18,
   "metadata": {},
   "outputs": [],
   "source": [
    "# DEV SCRIPT - DO NOT USE\n",
    "import gen_funcs as gf\n",
    "import ranked_funcs as rf\n",
    "import clump_funcs as cf\n",
    "import os\n",
    "import numpy as np"
   ]
  },
  {
   "cell_type": "code",
   "execution_count": 2,
   "metadata": {},
   "outputs": [
    {
     "name": "stdout",
     "output_type": "stream",
     "text": [
      "Running setup operations\n"
     ]
    }
   ],
   "source": [
    "# Select desired figures\n",
    "print(\"Running setup operations\", flush=True)\n",
    "selected_figs = [\"old\"]\n",
    "# selected_figs = [\"Fig2_Fig4\", \"Fig6\", \"Fig7\", \"Fig8\"]"
   ]
  },
  {
   "cell_type": "code",
   "execution_count": 3,
   "metadata": {},
   "outputs": [
    {
     "name": "stdout",
     "output_type": "stream",
     "text": [
      "(gen_funcs.load_paths_all)\n",
      "\tReading paths\n"
     ]
    }
   ],
   "source": [
    "# Load paths\n",
    "path_paths = \"paths.json\"\n",
    "dict_paths = gf.load_paths_all(path_paths)"
   ]
  },
  {
   "cell_type": "code",
   "execution_count": 4,
   "metadata": {},
   "outputs": [
    {
     "name": "stdout",
     "output_type": "stream",
     "text": [
      "(gen_funcs.iteratively_load_data)\n",
      "\tLoading data\n",
      "\t\tLoading file ./data/old/psliceout1.dat\n"
     ]
    }
   ],
   "source": [
    "# Load data\n",
    "path_data = dict_paths[\"path_data\"]\n",
    "paths_psliceout = gf.load_paths_psliceout(path_data, selected_figs)\n",
    "data_all = gf.iteratively_load_data(paths_psliceout)"
   ]
  },
  {
   "cell_type": "code",
   "execution_count": 5,
   "metadata": {},
   "outputs": [
    {
     "name": "stdout",
     "output_type": "stream",
     "text": [
      "(gen_funcs.iteratively_rank_neighbors)\n",
      "\tRanking particles\n",
      "\t\tRanking file ./data/old/psliceout1.dat\n",
      "(ranked_funcs.rank_neighbors)\n",
      "\tChecking if ranked file exists\n",
      "\t\tRanked file ./output/ranked/ranked_100neigh_psliceout1.dat already exists. Skipping.\n"
     ]
    }
   ],
   "source": [
    "# Rank particles\n",
    "path_ranked = dict_paths[\"path_ranked\"]\n",
    "n_neighbors = 100\n",
    "fout_ranked = gf.iteratively_rank_neighbors(data_all, paths_psliceout, path_ranked, n_neighbors)"
   ]
  },
  {
   "cell_type": "code",
   "execution_count": 31,
   "metadata": {},
   "outputs": [
    {
     "name": "stdout",
     "output_type": "stream",
     "text": [
      "Using ranked data to get COM coordinates\n"
     ]
    },
    {
     "name": "stdout",
     "output_type": "stream",
     "text": [
      "(ranked_funcs.get_com_coords)\n"
     ]
    }
   ],
   "source": [
    "# Use ranked data to get COM coordinates\n",
    "print(\"Using ranked data to get COM coordinates\", flush=True)\n",
    "\n",
    "# Calculate Roche density as threshold\n",
    "G = 1\n",
    "Omega_K = 1\n",
    "H_g = np.pi\n",
    "threshold_rho = cf.calculate_density_Roche(G, Omega_K, H_g)\n",
    "\n",
    "# Get COM coordinates for all ranked particles\n",
    "data_ranked = {}\n",
    "coords_com_ranked = {}\n",
    "for key in fout_ranked:\n",
    "    for fin_ranked in fout_ranked[key]:\n",
    "        try:\n",
    "            data_ranked[fin_ranked]\n",
    "        except KeyError:\n",
    "            _data_ranked, _coords_com_ranked = rf.get_com_coords(fin_ranked, n_neighbors, threshold_rho)\n",
    "            data_ranked[fin_ranked] = _data_ranked\n",
    "            coords_com_ranked[fin_ranked] = _coords_com_ranked"
   ]
  },
  {
   "cell_type": "code",
   "execution_count": 32,
   "metadata": {},
   "outputs": [
    {
     "data": {
      "text/plain": [
       "array([[ 1.09048e+01, -1.53215e+01, -5.17648e-02,  4.65093e-07],\n",
       "       [ 1.09048e+01, -1.53215e+01, -5.17648e-02,  4.69049e-07],\n",
       "       [ 1.09048e+01, -1.53215e+01, -5.17648e-02,  4.70104e-07],\n",
       "       ...,\n",
       "       [ 2.54242e+01,  4.74766e+01, -4.06339e-02,  2.88723e-01],\n",
       "       [-2.34735e+00,  4.01430e+01, -8.26641e-02,  2.88723e-01],\n",
       "       [-1.48748e+01, -4.88313e+00, -1.22432e-01,  2.88723e-01]])"
      ]
     },
     "execution_count": 32,
     "metadata": {},
     "output_type": "execute_result"
    }
   ],
   "source": [
    "coords_com_ranked['./output/ranked/ranked_100neigh_psliceout1.dat']"
   ]
  },
  {
   "cell_type": "code",
   "execution_count": 40,
   "metadata": {},
   "outputs": [
    {
     "name": "stdout",
     "output_type": "stream",
     "text": [
      "Calculating the frequency of each radius\n"
     ]
    },
    {
     "data": {
      "image/png": "[encoded data removed]",
      "text/plain": [
       "<Figure size 640x480 with 1 Axes>"
      ]
     },
     "metadata": {},
     "output_type": "display_data"
    }
   ],
   "source": [
    "# Fourier frequency analysis on coords_com_ranked['radius']\n",
    "# Calculate the frequency of each radius\n",
    "print(\"Calculating the frequency of each radius\", flush=True)\n",
    "radius = coords_com_ranked['./output/ranked/ranked_100neigh_psliceout1.dat'][:,-1]\n",
    "from scipy.fftpack import fft\n",
    "N = len(radius)\n",
    "T = 1\n",
    "yf = fft(radius)\n",
    "xf = np.linspace(0.0, 1.0/(2.0*T), N//2)\n",
    "import matplotlib.pyplot as plt\n",
    "plt.loglog(xf, 2.0/N * np.abs(yf[0:N//2]))\n",
    "plt.xlabel('Frequency')\n",
    "plt.ylabel('Amplitude')\n",
    "plt.grid()\n",
    "plt.show()"
   ]
  },
  {
   "cell_type": "code",
   "execution_count": 38,
   "metadata": {},
   "outputs": [
    {
     "data": {
      "text/plain": [
       "0.288723"
      ]
     },
     "execution_count": 38,
     "metadata": {},
     "output_type": "execute_result"
    }
   ],
   "source": [
    "max(radius)"
   ]
  }
 ],
 "metadata": {
  "kernelspec": {
   "display_name": "python3.11_conda_env",
   "language": "python",
   "name": "python3"
  },
  "language_info": {
   "codemirror_mode": {
    "name": "ipython",
    "version": 3
   },
   "file_extension": ".py",
   "mimetype": "text/x-python",
   "name": "python",
   "nbconvert_exporter": "python",
   "pygments_lexer": "ipython3",
   "version": "3.11.6"
  }
 },
 "nbformat": 4,
 "nbformat_minor": 2
}
