{
 "cells": [
  {
   "cell_type": "code",
   "execution_count": 78,
   "metadata": {},
   "outputs": [],
   "source": [
    "# DEV SCRIPT - DO NOT USE\n",
    "import gen_funcs as gf\n",
    "import ranked_funcs as rf\n",
    "import clump_funcs as cf\n",
    "import os\n",
    "import numpy as np\n",
    "import re\n",
    "from scipy.linalg import norm"
   ]
  },
  {
   "cell_type": "code",
   "execution_count": 3,
   "metadata": {},
   "outputs": [
    {
     "name": "stdout",
     "output_type": "stream",
     "text": [
      "Running setup operations\n"
     ]
    }
   ],
   "source": [
    "# Select desired figures\n",
    "print(\"Running setup operations\", flush=True)\n",
    "selected_figs = [\"old\"]\n",
    "# selected_figs = [\"Fig2_Fig4\", \"Fig6\", \"Fig7\", \"Fig8\"]"
   ]
  },
  {
   "cell_type": "code",
   "execution_count": 4,
   "metadata": {},
   "outputs": [
    {
     "name": "stdout",
     "output_type": "stream",
     "text": [
      "(gen_funcs.load_paths_all)\n",
      "\tReading paths\n"
     ]
    }
   ],
   "source": [
    "# Load paths\n",
    "path_paths = \"paths.json\"\n",
    "dict_paths = gf.load_paths_all(path_paths)"
   ]
  },
  {
   "cell_type": "code",
   "execution_count": 5,
   "metadata": {},
   "outputs": [
    {
     "name": "stdout",
     "output_type": "stream",
     "text": [
      "(gen_funcs.iteratively_load_data)\n",
      "\tLoading data\n",
      "\t\tLoading file ./data/old/psliceout1.dat\n"
     ]
    }
   ],
   "source": [
    "# Load data\n",
    "path_data = dict_paths[\"path_data\"]\n",
    "paths_psliceout = gf.load_paths_psliceout(path_data, selected_figs)\n",
    "data_all = gf.iteratively_load_data(paths_psliceout)"
   ]
  },
  {
   "cell_type": "code",
   "execution_count": 6,
   "metadata": {},
   "outputs": [
    {
     "name": "stdout",
     "output_type": "stream",
     "text": [
      "(gen_funcs.iteratively_rank_neighbors)\n",
      "\tRanking particles\n",
      "\t\tRanking file ./data/old/psliceout1.dat\n",
      "(ranked_funcs.rank_neighbors)\n",
      "\tChecking if ranked file exists\n",
      "\t\tRanked file ./output/ranked/ranked_100neigh_psliceout1.dat already exists. Skipping.\n"
     ]
    }
   ],
   "source": [
    "# Rank particles\n",
    "path_ranked = dict_paths[\"path_ranked\"]\n",
    "n_neighbors = 100\n",
    "fout_ranked = gf.iteratively_rank_neighbors(data_all, paths_psliceout, path_ranked, n_neighbors)"
   ]
  },
  {
   "cell_type": "code",
   "execution_count": 85,
   "metadata": {},
   "outputs": [
    {
     "name": "stdout",
     "output_type": "stream",
     "text": [
      "Using ranked data to get COM coordinates\n",
      "(ranked_funcs.read_ranked)\n",
      "\tReading in and reducing ranked file ./output/ranked/ranked_100neigh_psliceout1.dat\n",
      "(ranked_funcs.get_com_coords)\n",
      "\tFinding centres of mass of disconnected clumps\n",
      "\t\tIterating through clump 0\n",
      "\t\tIterating through clump 1\n",
      "\t\tIterating through clump 2\n",
      "\t\tIterating through clump 3\n",
      "\t\tIterating through clump 4\n",
      "\t\tIterating through clump 5\n",
      "\t\tIterating through clump 6\n",
      "\t\tIterating through clump 7\n",
      "\t\tIterating through clump 8\n",
      "\t\tIterating through clump 9\n",
      "\t\tIterating through clump 10\n",
      "\t\tIterating through clump 11\n",
      "\t\tIterating through clump 12\n",
      "\t\tIterating through clump 13\n",
      "\t\tIterating through clump 14\n",
      "\t\tIterating through clump 15\n",
      "\t\tIterating through clump 16\n",
      "\t\tIterating through clump 17\n",
      "\t\tIterating through clump 18\n",
      "\t\tIterating through clump 19\n"
     ]
    }
   ],
   "source": [
    "# Use ranked data to get COM coordinates\n",
    "print(\"Using ranked data to get COM coordinates\", flush=True)\n",
    "\n",
    "# Calculate Roche density as threshold\n",
    "G = 1\n",
    "Omega_K = 1\n",
    "H_g = 5.5\n",
    "threshold_rho = cf.calculate_density_Roche(G, Omega_K, H_g)\n",
    "\n",
    "# Get COM coordinates for all ranked files\n",
    "# Setting up shell parameters\n",
    "dr = 3e-4\n",
    "n_shells = 5100\n",
    "threshold_radius = 5.\n",
    "\n",
    "# Do for all ranked files\n",
    "data_ranked = {}\n",
    "coords_com_ranked = {}\n",
    "for folder in fout_ranked:\n",
    "    for fin_ranked in fout_ranked[folder]:\n",
    "        try:\n",
    "            data_ranked[fin_ranked]\n",
    "        except KeyError:\n",
    "            # Consolidate raw data with ranked data\n",
    "            data_key = re.search(\"ranked_[0-9]+neigh_(.+).dat\", fin_ranked).group(1)\n",
    "            raw_coords, raw_idx = data_all[data_key]['raw_coords'], data_all[data_key]['raw_idx']\n",
    "\n",
    "            # Get ranked data\n",
    "            _data_ranked = rf.read_ranked(fin_ranked, threshold_rho)\n",
    "\n",
    "            # Get COM coordinates\n",
    "            _coords_com_ranked = rf.get_com_coords(_data_ranked, dr, n_shells, raw_coords, raw_idx, threshold_radius, var_shell=False)\n",
    "            data_ranked[fin_ranked] = _data_ranked\n",
    "            coords_com_ranked[fin_ranked] = _coords_com_ranked"
   ]
  },
  {
   "cell_type": "code",
   "execution_count": 17,
   "metadata": {},
   "outputs": [],
   "source": [
    "# distances_from_densest = coords_com_ranked[1:,:3] - coords_com_ranked[0,:3]\n",
    "distances_from_densest = norm(coords_com_ranked['./output/ranked/ranked_100neigh_psliceout1.dat'][1:,:3] - coords_com_ranked['./output/ranked/ranked_100neigh_psliceout1.dat'][0,:3], axis=1)\n",
    "threshold_r = (n_neighbors / threshold_rho * 3/4 * 1/np.pi)**1/3\n",
    "mask = distances_from_densest > threshold_r\n",
    "# coms = []\n",
    "# while True:\n",
    "#     coms.append(coords_com_ranked['./output/ranked/ranked_100neigh_psliceout1.dat'][0,:3])\n",
    "#     distances_from_densest = distances_from_densest[mask]"
   ]
  }
 ],
 "metadata": {
  "kernelspec": {
   "display_name": "python3.11_conda_env",
   "language": "python",
   "name": "python3"
  },
  "language_info": {
   "codemirror_mode": {
    "name": "ipython",
    "version": 3
   },
   "file_extension": ".py",
   "mimetype": "text/x-python",
   "name": "python",
   "nbconvert_exporter": "python",
   "pygments_lexer": "ipython3",
   "version": "3.11.6"
  }
 },
 "nbformat": 4,
 "nbformat_minor": 2
}
