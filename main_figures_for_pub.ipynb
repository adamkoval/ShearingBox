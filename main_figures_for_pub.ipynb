{
 "cells": [
  {
   "cell_type": "code",
   "execution_count": 262,
   "metadata": {},
   "outputs": [],
   "source": [
    "# DEV SCRIPT - DO NOT USE\n",
    "import gen_funcs as gf\n",
    "import ranked_funcs as rf\n",
    "import clump_funcs as cf\n",
    "import os\n",
    "import numpy as np\n",
    "import re\n",
    "from scipy.linalg import norm"
   ]
  },
  {
   "cell_type": "code",
   "execution_count": 263,
   "metadata": {},
   "outputs": [
    {
     "name": "stdout",
     "output_type": "stream",
     "text": [
      "Running setup operations\n"
     ]
    }
   ],
   "source": [
    "# Select desired figures\n",
    "print(\"Running setup operations\", flush=True)\n",
    "selected_figs = [\"old\"]\n",
    "# selected_figs = [\"Fig2_Fig4\", \"Fig6\", \"Fig7\", \"Fig8\"]"
   ]
  },
  {
   "cell_type": "code",
   "execution_count": 264,
   "metadata": {},
   "outputs": [
    {
     "name": "stdout",
     "output_type": "stream",
     "text": [
      "(gen_funcs.load_paths_all)\n",
      "\tReading paths\n"
     ]
    }
   ],
   "source": [
    "# Load paths\n",
    "path_paths = \"paths.json\"\n",
    "dict_paths = gf.load_paths_all(path_paths)"
   ]
  },
  {
   "cell_type": "code",
   "execution_count": 265,
   "metadata": {},
   "outputs": [
    {
     "name": "stdout",
     "output_type": "stream",
     "text": [
      "(gen_funcs.iteratively_load_data)\n",
      "\tLoading data\n",
      "\t\tLoading file ./data/old/psliceout_dm1e-2_c_br_n_5E14-5E13.dat\n"
     ]
    }
   ],
   "source": [
    "# Load data\n",
    "path_data = dict_paths[\"path_data\"]\n",
    "paths_psliceout = gf.load_paths_psliceout(path_data, selected_figs)\n",
    "data_all = gf.iteratively_load_data(paths_psliceout)"
   ]
  },
  {
   "cell_type": "code",
   "execution_count": 266,
   "metadata": {},
   "outputs": [
    {
     "name": "stdout",
     "output_type": "stream",
     "text": [
      "(gen_funcs.iteratively_rank_neighbors)\n",
      "\tRanking particles\n",
      "\t\tRanking file ./data/old/psliceout_dm1e-2_c_br_n_5E14-5E13.dat\n"
     ]
    },
    {
     "name": "stdout",
     "output_type": "stream",
     "text": [
      "(ranked_funcs.rank_neighbors)\n",
      "\tChecking if ranked file exists\n",
      "\t\tRanked file ./output/ranked/ranked_100neigh_psliceout_dm1e-2_c_br_n_5E14-5E13.dat does not exist. Proceeding.\n",
      "\t\t\tAccessing  data:\n",
      "\t\t\t\t1.1920928955078125e-06 s.\n",
      "\t\t\tConstructing k-d tree:\n",
      "\t\t\t\t4.583890914916992 s.\n",
      "\t\t\tQuerying k-d tree:\n",
      "\t\t\t\t32.50164604187012 s.\n",
      "\t\t\tRanking radii:\n",
      "\t\t\t\t3.9352807998657227 s.\n",
      "\t\t\tWriting to file:\n",
      "\t\t\t\t26.19686508178711 s.\n"
     ]
    }
   ],
   "source": [
    "# Rank particles\n",
    "path_ranked = dict_paths[\"path_ranked\"]\n",
    "n_neighbors = 100\n",
    "fout_ranked = gf.iteratively_rank_neighbors(data_all, paths_psliceout, path_ranked, n_neighbors)"
   ]
  },
  {
   "cell_type": "code",
   "execution_count": 267,
   "metadata": {},
   "outputs": [
    {
     "name": "stdout",
     "output_type": "stream",
     "text": [
      "Using ranked data to get COM coordinates\n",
      "(ranked_funcs.read_ranked)\n",
      "\tReading in and reducing ranked file ./output/ranked/ranked_100neigh_psliceout_dm1e-2_c_br_n_5E14-5E13.dat\n",
      "(ranked_funcs.get_com_coords)\n",
      "\tFinding centres of mass of disconnected clumps (threshold radius:  5.0)\n",
      "\n",
      "\t\t\tCOM of clump 0: [ 2.35744e+00  3.30877e+01 -1.01090e-04]\n",
      "\t\t\tNumber of particles in raw search space: 10000000\n",
      "\t\t\tMinimum distance to COM: 9.466442771204423e-07\n",
      "\t\t\tNumber of particles in reduced search space: 451409\n",
      "\t\t\tNumber of particles in preclump: 160303.0\n",
      "\t\t\tIndices: [2993 2994 2995]\n",
      "\t\t\tCrossing point: 2993\n",
      "\t\t\tNumber of particles in postclump: 150870.0\n",
      "\t\t\tNumber of particles in ranked data at the end: 6393847\n",
      "\n",
      "\t\t\tCOM of clump 1: [-14.6494     10.7319     -0.0983921]\n",
      "\t\t\tNumber of particles in raw search space: 451409\n",
      "\t\t\tMinimum distance to COM: 23.091053236615405\n",
      "\t\t\tNumber of particles in reduced search space: 0\n",
      "\t\t\tNo more particles in search space. Exiting.\n"
     ]
    }
   ],
   "source": [
    "# Use ranked data to get COM coordinates\n",
    "print(\"Using ranked data to get COM coordinates\", flush=True)\n",
    "\n",
    "# Calculate Roche density as threshold\n",
    "G = 1\n",
    "Omega_K = 1\n",
    "H_g = 5.5\n",
    "threshold_rho = cf.calculate_density_Roche(G, Omega_K, H_g)\n",
    "\n",
    "# Get COM coordinates for all ranked files\n",
    "# Setting up shell parameters\n",
    "dr = 3e-4\n",
    "n_shells = 5100\n",
    "threshold_radius = 5.\n",
    "\n",
    "# Do for all ranked files\n",
    "data_rankedf = {}\n",
    "coords_com_rankedf = {}\n",
    "for folder in fout_ranked:\n",
    "    for fin_ranked in fout_ranked[folder]:\n",
    "        try:\n",
    "            data_rankedf[fin_ranked]\n",
    "        except KeyError:\n",
    "            # Consolidate raw data with ranked data\n",
    "            data_key = re.search(\"ranked_[0-9]+neigh_(.+).dat\", fin_ranked).group(1)\n",
    "            raw_coords, raw_idx = data_all[data_key]['raw_coords'], data_all[data_key]['raw_idx']\n",
    "\n",
    "            # Get ranked data\n",
    "            _data_ranked_red, _data_ranked = rf.read_ranked(fin_ranked, threshold_rho)\n",
    "\n",
    "            # Get COM coordinates\n",
    "            _coords_com_ranked, idxs_clump = rf.get_com_coords(_data_ranked_red, dr, n_shells, raw_coords, raw_idx, threshold_radius, var_shell=False)\n",
    "\n",
    "            # Remove the final \"clump\" since it would have been empty\n",
    "            _coords_com_ranked = {key: _coords_com_ranked[key][:-1] for key in _coords_com_ranked}\n",
    "\n",
    "            # Save data\n",
    "            data_rankedf[fin_ranked] = _data_ranked_red\n",
    "            coords_com_rankedf[fin_ranked] = {\"coords_com\": _coords_com_ranked, \"idxs_clump\": idxs_clump}"
   ]
  },
  {
   "cell_type": "code",
   "execution_count": 268,
   "metadata": {},
   "outputs": [
    {
     "data": {
      "text/plain": [
       "{'idx': [2491952],\n",
       " 'radius': [5.60808e-06],\n",
       " 'x': [2.35744],\n",
       " 'y': [33.0877],\n",
       " 'z': [-0.00010109]}"
      ]
     },
     "execution_count": 268,
     "metadata": {},
     "output_type": "execute_result"
    }
   ],
   "source": [
    "_coords_com_ranked"
   ]
  }
 ],
 "metadata": {
  "kernelspec": {
   "display_name": "python3.11_conda_env",
   "language": "python",
   "name": "python3"
  },
  "language_info": {
   "codemirror_mode": {
    "name": "ipython",
    "version": 3
   },
   "file_extension": ".py",
   "mimetype": "text/x-python",
   "name": "python",
   "nbconvert_exporter": "python",
   "pygments_lexer": "ipython3",
   "version": "3.11.6"
  }
 },
 "nbformat": 4,
 "nbformat_minor": 2
}
