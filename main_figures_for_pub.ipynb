{
 "cells": [
  {
   "cell_type": "code",
   "execution_count": 244,
   "metadata": {},
   "outputs": [],
   "source": [
    "# DEV SCRIPT - DO NOT USE\n",
    "import gen_funcs as gf\n",
    "import ranked_funcs as rf\n",
    "import clump_funcs as cf\n",
    "import os\n",
    "import numpy as np\n",
    "import re\n",
    "from scipy.linalg import norm"
   ]
  },
  {
   "cell_type": "code",
   "execution_count": 245,
   "metadata": {},
   "outputs": [
    {
     "name": "stdout",
     "output_type": "stream",
     "text": [
      "Running setup operations\n"
     ]
    }
   ],
   "source": [
    "# Select desired figures\n",
    "print(\"Running setup operations\", flush=True)\n",
    "selected_figs = [\"old\"]\n",
    "# selected_figs = [\"Fig2_Fig4\", \"Fig6\", \"Fig7\", \"Fig8\"]"
   ]
  },
  {
   "cell_type": "code",
   "execution_count": 246,
   "metadata": {},
   "outputs": [
    {
     "name": "stdout",
     "output_type": "stream",
     "text": [
      "(gen_funcs.load_paths_all)\n",
      "\tReading paths\n"
     ]
    }
   ],
   "source": [
    "# Load paths\n",
    "path_paths = \"paths.json\"\n",
    "dict_paths = gf.load_paths_all(path_paths)"
   ]
  },
  {
   "cell_type": "code",
   "execution_count": 247,
   "metadata": {},
   "outputs": [
    {
     "name": "stdout",
     "output_type": "stream",
     "text": [
      "(gen_funcs.iteratively_load_data)\n",
      "\tLoading data\n",
      "\t\tLoading file ./data/old/psliceout1.dat\n"
     ]
    }
   ],
   "source": [
    "# Load data\n",
    "path_data = dict_paths[\"path_data\"]\n",
    "paths_psliceout = gf.load_paths_psliceout(path_data, selected_figs)\n",
    "data_all = gf.iteratively_load_data(paths_psliceout)"
   ]
  },
  {
   "cell_type": "code",
   "execution_count": 248,
   "metadata": {},
   "outputs": [
    {
     "name": "stdout",
     "output_type": "stream",
     "text": [
      "(gen_funcs.iteratively_rank_neighbors)\n",
      "\tRanking particles\n",
      "\t\tRanking file ./data/old/psliceout1.dat\n",
      "(ranked_funcs.rank_neighbors)\n",
      "\tChecking if ranked file exists\n",
      "\t\tRanked file ./output/ranked/ranked_100neigh_psliceout1.dat already exists. Skipping.\n"
     ]
    }
   ],
   "source": [
    "# Rank particles\n",
    "path_ranked = dict_paths[\"path_ranked\"]\n",
    "n_neighbors = 100\n",
    "fout_ranked = gf.iteratively_rank_neighbors(data_all, paths_psliceout, path_ranked, n_neighbors)"
   ]
  },
  {
   "cell_type": "code",
   "execution_count": 260,
   "metadata": {},
   "outputs": [
    {
     "name": "stdout",
     "output_type": "stream",
     "text": [
      "Using ranked data to get COM coordinates\n"
     ]
    },
    {
     "name": "stdout",
     "output_type": "stream",
     "text": [
      "(ranked_funcs.read_ranked)\n",
      "\tReading in and reducing ranked file ./output/ranked/ranked_100neigh_psliceout1.dat\n",
      "(ranked_funcs.get_com_coords)\n",
      "\tFinding centres of mass of disconnected clumps (threshold radius:  5.0)\n",
      "\n",
      "\t\t\tCOM of clump 0: [ 10.9048    -15.3215     -0.0517648]\n",
      "\t\t\tNumber of particles in raw search space: 10000000\n",
      "\t\t\tMinimum distance to COM: 6.1767339686870505e-06\n",
      "\t\t\tNumber of particles in reduced search space: 579168\n",
      "\t\t\tNumber of particles in preclump: 448037.0\n",
      "\t\t\tIndices: [4286 4287 4288]\n",
      "\t\t\tCrossing point: 4286\n",
      "\t\t\tNumber of particles in postclump: 443116.0\n",
      "\t\t\tNumber of particles in ranked data at the end: 726032\n",
      "\n",
      "\t\t\tCOM of clump 1: [24.6408   38.8009    0.127862]\n",
      "\t\t\tNumber of particles in raw search space: 579168\n",
      "\t\t\tMinimum distance to COM: 50.849693828884185\n",
      "\t\t\tNumber of particles in reduced search space: 0\n",
      "\t\t\tNo more particles in search space. Exiting.\n"
     ]
    }
   ],
   "source": [
    "# Use ranked data to get COM coordinates\n",
    "print(\"Using ranked data to get COM coordinates\", flush=True)\n",
    "\n",
    "# Calculate Roche density as threshold\n",
    "G = 1\n",
    "Omega_K = 1\n",
    "H_g = 5.5\n",
    "threshold_rho = cf.calculate_density_Roche(G, Omega_K, H_g)\n",
    "\n",
    "# Get COM coordinates for all ranked files\n",
    "# Setting up shell parameters\n",
    "dr = 3e-4\n",
    "n_shells = 5100\n",
    "threshold_radius = 5.\n",
    "\n",
    "# Do for all ranked files\n",
    "data_rankedf = {}\n",
    "coords_com_rankedf = {}\n",
    "for folder in fout_ranked:\n",
    "    for fin_ranked in fout_ranked[folder]:\n",
    "        try:\n",
    "            data_rankedf[fin_ranked]\n",
    "        except KeyError:\n",
    "            # Consolidate raw data with ranked data\n",
    "            data_key = re.search(\"ranked_[0-9]+neigh_(.+).dat\", fin_ranked).group(1)\n",
    "            raw_coords, raw_idx = data_all[data_key]['raw_coords'], data_all[data_key]['raw_idx']\n",
    "\n",
    "            # Get ranked data\n",
    "            _data_ranked_red, _data_ranked = rf.read_ranked(fin_ranked, threshold_rho)\n",
    "\n",
    "            # Get COM coordinates\n",
    "            _coords_com_ranked, idxs_clump = rf.get_com_coords(_data_ranked_red, dr, n_shells, raw_coords, raw_idx, threshold_radius, var_shell=False)\n",
    "\n",
    "            # Remove the final \"clump\" since it would have been empty\n",
    "            _coords_com_ranked = {key: _coords_com_ranked[key][:-1] for key in _coords_com_ranked}\n",
    "\n",
    "            # Save data\n",
    "            data_rankedf[fin_ranked] = _data_ranked_red\n",
    "            coords_com_rankedf[fin_ranked] = {\"coords_com\": _coords_com_ranked, \"idxs_clump\": idxs_clump}"
   ]
  },
  {
   "cell_type": "code",
   "execution_count": 261,
   "metadata": {},
   "outputs": [
    {
     "data": {
      "text/plain": [
       "{'idx': [9767297],\n",
       " 'radius': [4.65093e-07],\n",
       " 'x': [10.9048],\n",
       " 'y': [-15.3215],\n",
       " 'z': [-0.0517648]}"
      ]
     },
     "execution_count": 261,
     "metadata": {},
     "output_type": "execute_result"
    }
   ],
   "source": [
    "_coords_com_ranked"
   ]
  }
 ],
 "metadata": {
  "kernelspec": {
   "display_name": "python3.11_conda_env",
   "language": "python",
   "name": "python3"
  },
  "language_info": {
   "codemirror_mode": {
    "name": "ipython",
    "version": 3
   },
   "file_extension": ".py",
   "mimetype": "text/x-python",
   "name": "python",
   "nbconvert_exporter": "python",
   "pygments_lexer": "ipython3",
   "version": "3.11.6"
  }
 },
 "nbformat": 4,
 "nbformat_minor": 2
}
