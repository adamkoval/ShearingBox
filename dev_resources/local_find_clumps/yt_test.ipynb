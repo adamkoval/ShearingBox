{
 "cells": [
  {
   "cell_type": "code",
   "execution_count": 24,
   "metadata": {},
   "outputs": [
    {
     "name": "stderr",
     "output_type": "stream",
     "text": [
      "/home/akoval/work/ShearingBox/find_clumps/func.py:28: SyntaxWarning: invalid escape sequence '\\s'\n",
      "  raw = pd.read_csv(fin_raw, sep='\\s+', index_col=0, names=['x', 'y', 'z', 'vx', 'vy', 'vz', 'size'], header=None)\n"
     ]
    }
   ],
   "source": [
    "import func as f\n",
    "import yt\n",
    "from yt.data_objects.level_sets.api import *\n",
    "import numpy as np"
   ]
  },
  {
   "cell_type": "code",
   "execution_count": 4,
   "metadata": {},
   "outputs": [],
   "source": [
    "# Read in ranked list and get densest particle\n",
    "fin_ranked = \"../rank_neighbours/output/ranked_1000_neigh.dat\"\n",
    "ranked, com_coords = f.get_com_coords(fin_ranked)"
   ]
  },
  {
   "cell_type": "code",
   "execution_count": 26,
   "metadata": {},
   "outputs": [],
   "source": [
    "# Read in raw data\n",
    "fin_raw = \"../psliceout1.dat\"\n",
    "raw_coords, raw_vels, raw_sizes, raw_idx = f.read_psliceout(fin_raw)"
   ]
  },
  {
   "cell_type": "code",
   "execution_count": 27,
   "metadata": {},
   "outputs": [
    {
     "name": "stderr",
     "output_type": "stream",
     "text": [
      "yt : [INFO     ] 2024-09-26 14:53:37,517 Parameters: current_time              = 0.0\n",
      "yt : [INFO     ] 2024-09-26 14:53:37,519 Parameters: domain_dimensions         = [1 1 1]\n",
      "yt : [INFO     ] 2024-09-26 14:53:37,521 Parameters: domain_left_edge          = [-65.9999124  -65.99999587 -10.99992708]\n",
      "yt : [INFO     ] 2024-09-26 14:53:37,523 Parameters: domain_right_edge         = [65.99982283 65.99998632 10.99982884]\n",
      "yt : [INFO     ] 2024-09-26 14:53:37,525 Parameters: cosmological_simulation   = 0\n"
     ]
    }
   ],
   "source": [
    "# Yt version\n",
    "yt_data = {\n",
    "    (\"io\", \"particle_position_x\"): raw_coords[:,0],\n",
    "    (\"io\", \"particle_position_y\"): raw_coords[:,1],\n",
    "    (\"io\", \"particle_position_z\"): raw_coords[:,2],\n",
    "    (\"io\", \"particle_velocity_x\"): raw_vels[:,0],\n",
    "    (\"io\", \"particle_velocity_y\"): raw_vels[:,1],\n",
    "    (\"io\", \"particle_velocity_z\"): raw_vels[:,2],\n",
    "    (\"io\", \"particle_mass\"): raw_sizes * 1.44e-5\n",
    "}\n",
    "bbox = 1.1 * np.array(\n",
    "    [[min(raw_coords[:,0]), max(raw_coords[:,0])], [min(raw_coords[:,1]), max(raw_coords[:,1])], [min(raw_coords[:,2]), max(raw_coords[:,2])]]\n",
    ")\n",
    "ds = yt.load_particles(yt_data, bbox=bbox)"
   ]
  },
  {
   "cell_type": "code",
   "execution_count": 28,
   "metadata": {},
   "outputs": [
    {
     "name": "stderr",
     "output_type": "stream",
     "text": [
      "yt : [INFO     ] 2024-09-26 14:53:47,243 Allocating for 1e+07 particles\n"
     ]
    },
    {
     "name": "stdout",
     "output_type": "stream",
     "text": [
      "3.092530700278441 code_length/dimensionless\n",
      "1.5643336428908342e-10 g\n"
     ]
    }
   ],
   "source": [
    "ad = ds.all_data()\n",
    "print(ad.mean((\"io\", \"particle_position_x\")))\n",
    "print(ad.sum((\"io\", \"particle_mass\")))"
   ]
  },
  {
   "cell_type": "code",
   "execution_count": 36,
   "metadata": {},
   "outputs": [
    {
     "ename": "AttributeError",
     "evalue": "'StreamParticlesDataset' object has no attribute '__attr__'",
     "output_type": "error",
     "traceback": [
      "\u001b[0;31m---------------------------------------------------------------------------\u001b[0m",
      "\u001b[0;31mAttributeError\u001b[0m                            Traceback (most recent call last)",
      "Cell \u001b[0;32mIn[36], line 1\u001b[0m\n\u001b[0;32m----> 1\u001b[0m ds\u001b[38;5;241m.\u001b[39m__attr__\n",
      "\u001b[0;31mAttributeError\u001b[0m: 'StreamParticlesDataset' object has no attribute '__attr__'"
     ]
    }
   ],
   "source": [
    "ds"
   ]
  },
  {
   "cell_type": "code",
   "execution_count": 32,
   "metadata": {},
   "outputs": [
    {
     "name": "stderr",
     "output_type": "stream",
     "text": [
      "yt : [INFO     ] 2024-09-26 14:57:45,723 xlim = -65.999912 65.999823\n",
      "yt : [INFO     ] 2024-09-26 14:57:45,725 ylim = -65.999996 65.999986\n",
      "yt : [INFO     ] 2024-09-26 14:57:45,732 xlim = -65.999912 65.999823\n",
      "yt : [INFO     ] 2024-09-26 14:57:45,733 ylim = -65.999996 65.999986\n",
      "yt : [INFO     ] 2024-09-26 14:57:45,736 Splatting (('all', 'particle_mass')) onto a 800 by 800 mesh using method 'ngp'\n"
     ]
    },
    {
     "ename": "ValueError",
     "evalue": "Buffer has wrong number of dimensions (expected 1, got 2)",
     "output_type": "error",
     "traceback": [
      "\u001b[0;31m---------------------------------------------------------------------------\u001b[0m",
      "\u001b[0;31mValueError\u001b[0m                                Traceback (most recent call last)",
      "Cell \u001b[0;32mIn[32], line 1\u001b[0m\n\u001b[0;32m----> 1\u001b[0m prj \u001b[38;5;241m=\u001b[39m yt\u001b[38;5;241m.\u001b[39mParticleProjectionPlot(ds, \u001b[38;5;241m2\u001b[39m, \u001b[38;5;124m\"\u001b[39m\u001b[38;5;124mparticle_mass\u001b[39m\u001b[38;5;124m\"\u001b[39m)\n",
      "File \u001b[0;32m~/miniconda3/envs/python3.11_conda_env/lib/python3.12/site-packages/yt/visualization/particle_plots.py:452\u001b[0m, in \u001b[0;36mParticleProjectionPlot.__init__\u001b[0;34m(self, ds, normal, fields, color, center, width, depth, weight_field, axes_unit, origin, fontsize, field_parameters, window_size, aspect, data_source, deposition, density, north_vector, axis)\u001b[0m\n\u001b[1;32m    448\u001b[0m     plt_origin \u001b[38;5;241m=\u001b[39m \u001b[38;5;124m\"\u001b[39m\u001b[38;5;124mcenter-window\u001b[39m\u001b[38;5;124m\"\u001b[39m\n\u001b[1;32m    450\u001b[0m \u001b[38;5;28mself\u001b[39m\u001b[38;5;241m.\u001b[39mprojected \u001b[38;5;241m=\u001b[39m weight_field \u001b[38;5;129;01mis\u001b[39;00m \u001b[38;5;28;01mNone\u001b[39;00m\n\u001b[0;32m--> 452\u001b[0m PWViewerMPL\u001b[38;5;241m.\u001b[39m\u001b[38;5;21m__init__\u001b[39m(\n\u001b[1;32m    453\u001b[0m     \u001b[38;5;28mself\u001b[39m,\n\u001b[1;32m    454\u001b[0m     ParticleSource,\n\u001b[1;32m    455\u001b[0m     bounds,\n\u001b[1;32m    456\u001b[0m     origin\u001b[38;5;241m=\u001b[39mplt_origin,\n\u001b[1;32m    457\u001b[0m     fontsize\u001b[38;5;241m=\u001b[39mfontsize,\n\u001b[1;32m    458\u001b[0m     fields\u001b[38;5;241m=\u001b[39mfields,\n\u001b[1;32m    459\u001b[0m     window_size\u001b[38;5;241m=\u001b[39mwindow_size,\n\u001b[1;32m    460\u001b[0m     aspect\u001b[38;5;241m=\u001b[39maspect,\n\u001b[1;32m    461\u001b[0m     splat_color\u001b[38;5;241m=\u001b[39msplat_color,\n\u001b[1;32m    462\u001b[0m     geometry\u001b[38;5;241m=\u001b[39mds\u001b[38;5;241m.\u001b[39mgeometry,\n\u001b[1;32m    463\u001b[0m     periodic\u001b[38;5;241m=\u001b[39mperiodic,\n\u001b[1;32m    464\u001b[0m     oblique\u001b[38;5;241m=\u001b[39moblique,\n\u001b[1;32m    465\u001b[0m )\n\u001b[1;32m    467\u001b[0m \u001b[38;5;28mself\u001b[39m\u001b[38;5;241m.\u001b[39mset_axes_unit(axes_unit)\n\u001b[1;32m    469\u001b[0m \u001b[38;5;28;01mif\u001b[39;00m \u001b[38;5;129;01mnot\u001b[39;00m \u001b[38;5;28mself\u001b[39m\u001b[38;5;241m.\u001b[39m_use_cbar:\n",
      "File \u001b[0;32m~/miniconda3/envs/python3.11_conda_env/lib/python3.12/site-packages/yt/visualization/plot_window.py:864\u001b[0m, in \u001b[0;36mPWViewerMPL.__init__\u001b[0;34m(self, *args, **kwargs)\u001b[0m\n\u001b[1;32m    862\u001b[0m     \u001b[38;5;28mself\u001b[39m\u001b[38;5;241m.\u001b[39m_plot_type \u001b[38;5;241m=\u001b[39m kwargs\u001b[38;5;241m.\u001b[39mpop(\u001b[38;5;124m\"\u001b[39m\u001b[38;5;124mplot_type\u001b[39m\u001b[38;5;124m\"\u001b[39m)\n\u001b[1;32m    863\u001b[0m \u001b[38;5;28mself\u001b[39m\u001b[38;5;241m.\u001b[39m_splat_color \u001b[38;5;241m=\u001b[39m kwargs\u001b[38;5;241m.\u001b[39mpop(\u001b[38;5;124m\"\u001b[39m\u001b[38;5;124msplat_color\u001b[39m\u001b[38;5;124m\"\u001b[39m, \u001b[38;5;28;01mNone\u001b[39;00m)\n\u001b[0;32m--> 864\u001b[0m PlotWindow\u001b[38;5;241m.\u001b[39m\u001b[38;5;21m__init__\u001b[39m(\u001b[38;5;28mself\u001b[39m, \u001b[38;5;241m*\u001b[39margs, \u001b[38;5;241m*\u001b[39m\u001b[38;5;241m*\u001b[39mkwargs)\n\u001b[1;32m    866\u001b[0m \u001b[38;5;66;03m# import type here to avoid import cycles\u001b[39;00m\n\u001b[1;32m    867\u001b[0m \u001b[38;5;66;03m# note that this import statement is actually crucial at runtime:\u001b[39;00m\n\u001b[1;32m    868\u001b[0m \u001b[38;5;66;03m# the filter methods for the present class are defined only when\u001b[39;00m\n\u001b[1;32m    869\u001b[0m \u001b[38;5;66;03m# fixed_resolution_filters is imported, so we need to guarantee\u001b[39;00m\n\u001b[1;32m    870\u001b[0m \u001b[38;5;66;03m# that it happens no later than instantiation\u001b[39;00m\n\u001b[1;32m    871\u001b[0m \u001b[38;5;28;01mfrom\u001b[39;00m \u001b[38;5;21;01myt\u001b[39;00m\u001b[38;5;21;01m.\u001b[39;00m\u001b[38;5;21;01mvisualization\u001b[39;00m\u001b[38;5;21;01m.\u001b[39;00m\u001b[38;5;21;01mplot_modifications\u001b[39;00m \u001b[38;5;28;01mimport\u001b[39;00m PlotCallback\n",
      "File \u001b[0;32m~/miniconda3/envs/python3.11_conda_env/lib/python3.12/site-packages/yt/visualization/plot_window.py:252\u001b[0m, in \u001b[0;36mPlotWindow.__init__\u001b[0;34m(self, data_source, bounds, buff_size, antialias, periodic, origin, oblique, window_size, fields, fontsize, aspect, setup, geometry)\u001b[0m\n\u001b[1;32m    249\u001b[0m     \u001b[38;5;28mself\u001b[39m\u001b[38;5;241m.\u001b[39m_projection \u001b[38;5;241m=\u001b[39m get_mpl_transform(projection)\n\u001b[1;32m    250\u001b[0m     \u001b[38;5;28mself\u001b[39m\u001b[38;5;241m.\u001b[39m_transform \u001b[38;5;241m=\u001b[39m get_mpl_transform(transform)\n\u001b[0;32m--> 252\u001b[0m \u001b[38;5;28mself\u001b[39m\u001b[38;5;241m.\u001b[39m_setup_plots()\n\u001b[1;32m    254\u001b[0m \u001b[38;5;28;01mfor\u001b[39;00m field \u001b[38;5;129;01min\u001b[39;00m \u001b[38;5;28mself\u001b[39m\u001b[38;5;241m.\u001b[39mdata_source\u001b[38;5;241m.\u001b[39m_determine_fields(\u001b[38;5;28mself\u001b[39m\u001b[38;5;241m.\u001b[39mfields):\n\u001b[1;32m    255\u001b[0m     finfo \u001b[38;5;241m=\u001b[39m \u001b[38;5;28mself\u001b[39m\u001b[38;5;241m.\u001b[39mdata_source\u001b[38;5;241m.\u001b[39mds\u001b[38;5;241m.\u001b[39m_get_field_info(field)\n",
      "File \u001b[0;32m~/miniconda3/envs/python3.11_conda_env/lib/python3.12/site-packages/yt/visualization/plot_window.py:1066\u001b[0m, in \u001b[0;36mPWViewerMPL._setup_plots\u001b[0;34m(self)\u001b[0m\n\u001b[1;32m   1062\u001b[0m     extenty\u001b[38;5;241m.\u001b[39mconvert_to_units(unit_y)\n\u001b[1;32m   1064\u001b[0m extent \u001b[38;5;241m=\u001b[39m [\u001b[38;5;241m*\u001b[39mextentx, \u001b[38;5;241m*\u001b[39mextenty]\n\u001b[0;32m-> 1066\u001b[0m image \u001b[38;5;241m=\u001b[39m \u001b[38;5;28mself\u001b[39m\u001b[38;5;241m.\u001b[39mfrb\u001b[38;5;241m.\u001b[39mget_image(f)\n\u001b[1;32m   1067\u001b[0m mask \u001b[38;5;241m=\u001b[39m \u001b[38;5;28mself\u001b[39m\u001b[38;5;241m.\u001b[39mfrb\u001b[38;5;241m.\u001b[39mget_mask(f)\n\u001b[1;32m   1068\u001b[0m \u001b[38;5;28;01massert\u001b[39;00m mask \u001b[38;5;129;01mis\u001b[39;00m \u001b[38;5;28;01mNone\u001b[39;00m \u001b[38;5;129;01mor\u001b[39;00m mask\u001b[38;5;241m.\u001b[39mdtype \u001b[38;5;241m==\u001b[39m \u001b[38;5;28mbool\u001b[39m\n",
      "File \u001b[0;32m~/miniconda3/envs/python3.11_conda_env/lib/python3.12/site-packages/yt/visualization/fixed_resolution.py:212\u001b[0m, in \u001b[0;36mFixedResolutionBuffer.get_image\u001b[0;34m(self, key)\u001b[0m\n\u001b[1;32m    210\u001b[0m \u001b[38;5;28;01mdef\u001b[39;00m \u001b[38;5;21mget_image\u001b[39m(\u001b[38;5;28mself\u001b[39m, key, \u001b[38;5;241m/\u001b[39m) \u001b[38;5;241m-\u001b[39m\u001b[38;5;241m>\u001b[39m ImageArray:\n\u001b[1;32m    211\u001b[0m     \u001b[38;5;28;01mif\u001b[39;00m \u001b[38;5;129;01mnot\u001b[39;00m (key \u001b[38;5;129;01min\u001b[39;00m \u001b[38;5;28mself\u001b[39m\u001b[38;5;241m.\u001b[39mdata \u001b[38;5;129;01mand\u001b[39;00m \u001b[38;5;28mself\u001b[39m\u001b[38;5;241m.\u001b[39m_data_valid):\n\u001b[0;32m--> 212\u001b[0m         \u001b[38;5;28mself\u001b[39m\u001b[38;5;241m.\u001b[39m_generate_image_and_mask(key)\n\u001b[1;32m    213\u001b[0m     \u001b[38;5;28;01mreturn\u001b[39;00m \u001b[38;5;28mself\u001b[39m\u001b[38;5;241m.\u001b[39mdata[key]\n",
      "File \u001b[0;32m~/miniconda3/envs/python3.11_conda_env/lib/python3.12/site-packages/yt/visualization/fixed_resolution.py:798\u001b[0m, in \u001b[0;36mParticleImageBuffer._generate_image_and_mask\u001b[0;34m(self, item)\u001b[0m\n\u001b[1;32m    796\u001b[0m buff_mask \u001b[38;5;241m=\u001b[39m np\u001b[38;5;241m.\u001b[39mzeros_like(buff, dtype\u001b[38;5;241m=\u001b[39m\u001b[38;5;124m\"\u001b[39m\u001b[38;5;124muint8\u001b[39m\u001b[38;5;124m\"\u001b[39m)\n\u001b[1;32m    797\u001b[0m \u001b[38;5;28;01mif\u001b[39;00m deposition \u001b[38;5;241m==\u001b[39m \u001b[38;5;124m\"\u001b[39m\u001b[38;5;124mngp\u001b[39m\u001b[38;5;124m\"\u001b[39m:\n\u001b[0;32m--> 798\u001b[0m     add_points_to_greyscale_image(\n\u001b[1;32m    799\u001b[0m         buff, buff_mask, px[mask], py[mask], splat_vals\n\u001b[1;32m    800\u001b[0m     )\n\u001b[1;32m    801\u001b[0m \u001b[38;5;28;01melif\u001b[39;00m deposition \u001b[38;5;241m==\u001b[39m \u001b[38;5;124m\"\u001b[39m\u001b[38;5;124mcic\u001b[39m\u001b[38;5;124m\"\u001b[39m:\n\u001b[1;32m    802\u001b[0m     CICDeposit_2(\n\u001b[1;32m    803\u001b[0m         py[mask],\n\u001b[1;32m    804\u001b[0m         px[mask],\n\u001b[0;32m   (...)\u001b[0m\n\u001b[1;32m    810\u001b[0m         y_bin_edges,\n\u001b[1;32m    811\u001b[0m     )\n",
      "File \u001b[0;32m~/miniconda3/envs/python3.11_conda_env/lib/python3.12/site-packages/yt/utilities/lib/image_utilities.pyx:15\u001b[0m, in \u001b[0;36myt.utilities.lib.image_utilities.add_points_to_greyscale_image\u001b[0;34m()\u001b[0m\n",
      "\u001b[0;31mValueError\u001b[0m: Buffer has wrong number of dimensions (expected 1, got 2)"
     ]
    }
   ],
   "source": [
    "prj = yt.ParticleProjectionPlot(ds, 2, \"particle_mass\")\n",
    "# prj.set_width((8, \"Mpc\"))"
   ]
  }
 ],
 "metadata": {
  "kernelspec": {
   "display_name": "python3.11_conda_env",
   "language": "python",
   "name": "python3"
  },
  "language_info": {
   "codemirror_mode": {
    "name": "ipython",
    "version": 3
   },
   "file_extension": ".py",
   "mimetype": "text/x-python",
   "name": "python",
   "nbconvert_exporter": "python",
   "pygments_lexer": "ipython3",
   "version": "3.12.2"
  }
 },
 "nbformat": 4,
 "nbformat_minor": 2
}
